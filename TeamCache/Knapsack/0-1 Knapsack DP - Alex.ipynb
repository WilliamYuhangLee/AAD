{
 "cells": [
  {
   "cell_type": "markdown",
   "metadata": {},
   "source": [
    "# Setup Fake Values"
   ]
  },
  {
   "cell_type": "code",
   "execution_count": 1,
   "metadata": {},
   "outputs": [],
   "source": [
    "weights = [5, 4, 6, 3]\n",
    "values = [10, 40, 30, 50]"
   ]
  },
  {
   "cell_type": "code",
   "execution_count": 2,
   "metadata": {},
   "outputs": [],
   "source": [
    "W = 10"
   ]
  },
  {
   "cell_type": "markdown",
   "metadata": {},
   "source": [
    "# Create Array"
   ]
  },
  {
   "cell_type": "code",
   "execution_count": 4,
   "metadata": {},
   "outputs": [],
   "source": [
    "T = [[0 for x in range(W + 1)] for y in range(len(values) + 1)]"
   ]
  },
  {
   "cell_type": "code",
   "execution_count": 5,
   "metadata": {},
   "outputs": [
    {
     "data": {
      "text/plain": [
       "[[0, 0, 0, 0, 0, 0, 0, 0, 0, 0, 0],\n",
       " [0, 0, 0, 0, 0, 0, 0, 0, 0, 0, 0],\n",
       " [0, 0, 0, 0, 0, 0, 0, 0, 0, 0, 0],\n",
       " [0, 0, 0, 0, 0, 0, 0, 0, 0, 0, 0],\n",
       " [0, 0, 0, 0, 0, 0, 0, 0, 0, 0, 0]]"
      ]
     },
     "execution_count": 5,
     "metadata": {},
     "output_type": "execute_result"
    }
   ],
   "source": [
    "T"
   ]
  },
  {
   "cell_type": "markdown",
   "metadata": {},
   "source": [
    "# Fill Array"
   ]
  },
  {
   "cell_type": "code",
   "execution_count": 6,
   "metadata": {},
   "outputs": [],
   "source": [
    "n = len(values)"
   ]
  },
  {
   "cell_type": "code",
   "execution_count": 7,
   "metadata": {},
   "outputs": [
    {
     "name": "stdout",
     "output_type": "stream",
     "text": [
      "90\n"
     ]
    }
   ],
   "source": [
    "for i in range(n+1): \n",
    "    for w in range(W+1):\n",
    "        if i==0 or w==0: \n",
    "            T[i][w] = 0\n",
    "        elif weights[i-1] <= w: \n",
    "            T[i][w] = max(values[i-1] + T[i-1][w-weights[i-1]],  T[i-1][w]) \n",
    "        else: \n",
    "            T[i][w] = T[i-1][w] \n",
    "print(T[n][W])"
   ]
  },
  {
   "cell_type": "code",
   "execution_count": 8,
   "metadata": {},
   "outputs": [
    {
     "data": {
      "text/plain": [
       "[[0, 0, 0, 0, 0, 0, 0, 0, 0, 0, 0],\n",
       " [0, 0, 0, 0, 0, 10, 10, 10, 10, 10, 10],\n",
       " [0, 0, 0, 0, 40, 40, 40, 40, 40, 50, 50],\n",
       " [0, 0, 0, 0, 40, 40, 40, 40, 40, 50, 70],\n",
       " [0, 0, 0, 50, 50, 50, 50, 90, 90, 90, 90]]"
      ]
     },
     "execution_count": 8,
     "metadata": {},
     "output_type": "execute_result"
    }
   ],
   "source": [
    "T"
   ]
  },
  {
   "cell_type": "markdown",
   "metadata": {},
   "source": [
    "# Getting Solution"
   ]
  },
  {
   "cell_type": "code",
   "execution_count": 17,
   "metadata": {},
   "outputs": [],
   "source": [
    "# https://www.geeksforgeeks.org/printing-items-01-knapsack/"
   ]
  },
  {
   "cell_type": "code",
   "execution_count": 21,
   "metadata": {},
   "outputs": [
    {
     "name": "stdout",
     "output_type": "stream",
     "text": [
      "3\n",
      "4\n"
     ]
    }
   ],
   "source": [
    "res = T[n][W]\n",
    "w = W\n",
    "for i in reversed(range(1, n+1)):\n",
    "    if res <= 0:\n",
    "        break\n",
    "    if res == T[i - 1][w]: \n",
    "        continue\n",
    "    else:\n",
    "        print(weights[i - 1])\n",
    "        res -= values[i-1]\n",
    "        w -= weights[i - 1]"
   ]
  },
  {
   "cell_type": "markdown",
   "metadata": {},
   "source": [
    "# ALL TOGETHER"
   ]
  },
  {
   "cell_type": "code",
   "execution_count": 3,
   "metadata": {},
   "outputs": [],
   "source": [
    "import random\n",
    "import math"
   ]
  },
  {
   "cell_type": "code",
   "execution_count": 39,
   "metadata": {},
   "outputs": [],
   "source": [
    "weights = [random.randint(1, 200) for x in range(1, 100)]\n",
    "values  = [random.randint(1, 50) for x in range(1, 100)]\n",
    "W = 10000"
   ]
  },
  {
   "cell_type": "code",
   "execution_count": 36,
   "metadata": {},
   "outputs": [],
   "source": [
    "weights = [5, 4, 6, 3] #cost of storing\n",
    "values = [10, 40, 30, 50] #benefit of storing\n",
    "W = 10 #total cost of weights we can store (sum of weights of objects must be less than or equal to W)"
   ]
  },
  {
   "cell_type": "code",
   "execution_count": 40,
   "metadata": {},
   "outputs": [],
   "source": [
    "T = [[0 for x in range(W + 1)] for y in range(len(values) + 1)] #Create 2d array of zeroes to construct solution\n",
    "n = len(values) #store number of objects we're looking at\n",
    "for i in range(n+1): #iterate vertically (i changes the object we're looking at)\n",
    "    for w in range(W+1): #iterate horizontally (w changes the total cost case we're looking at)\n",
    "        if i==0 or w==0: #pad top and left side with zero\n",
    "            T[i][w] = 0\n",
    "        elif weights[i-1] <= w: #if weight of above object is less than the total weight case we're looking at\n",
    "            T[i][w] = max(values[i-1] + T[i-1][w-weights[i-1]],  T[i-1][w]) #store in array max of potential value\n",
    "        else: #our weight is too great for this case\n",
    "            T[i][w] = T[i-1][w] #set equal to what we found with the previous object"
   ]
  },
  {
   "cell_type": "code",
   "execution_count": 41,
   "metadata": {},
   "outputs": [
    {
     "name": "stdout",
     "output_type": "stream",
     "text": [
      "Best result: 2513\n",
      "Added object: (120, 27)\n",
      "Added object: (103, 13)\n",
      "Added object: (4, 43)\n",
      "Added object: (123, 31)\n",
      "Added object: (73, 21)\n",
      "Added object: (192, 36)\n",
      "Added object: (50, 41)\n",
      "Added object: (77, 36)\n",
      "Added object: (32, 41)\n",
      "Added object: (166, 18)\n",
      "Added object: (196, 42)\n",
      "Added object: (92, 13)\n",
      "Added object: (159, 37)\n",
      "Added object: (150, 17)\n",
      "Added object: (30, 45)\n",
      "Added object: (191, 45)\n",
      "Added object: (10, 8)\n",
      "Added object: (181, 19)\n",
      "Added object: (51, 36)\n",
      "Added object: (90, 35)\n",
      "Added object: (78, 33)\n",
      "Added object: (118, 3)\n",
      "Added object: (99, 44)\n",
      "Added object: (197, 47)\n",
      "Added object: (24, 25)\n",
      "Added object: (80, 46)\n",
      "Added object: (59, 47)\n",
      "Added object: (91, 38)\n",
      "Added object: (172, 40)\n",
      "Added object: (91, 13)\n",
      "Added object: (194, 38)\n",
      "Added object: (188, 19)\n",
      "Added object: (83, 14)\n",
      "Added object: (139, 43)\n",
      "Added object: (147, 42)\n",
      "Added object: (160, 7)\n",
      "Added object: (53, 22)\n",
      "Added object: (99, 23)\n",
      "Added object: (7, 23)\n",
      "Added object: (14, 43)\n",
      "Added object: (87, 28)\n",
      "Added object: (153, 15)\n",
      "Added object: (47, 50)\n",
      "Added object: (160, 8)\n",
      "Added object: (10, 44)\n",
      "Added object: (191, 4)\n",
      "Added object: (91, 1)\n",
      "Added object: (38, 48)\n",
      "Added object: (113, 44)\n",
      "Added object: (68, 37)\n",
      "Added object: (197, 40)\n",
      "Added object: (170, 12)\n",
      "Added object: (188, 32)\n",
      "Added object: (113, 33)\n",
      "Added object: (86, 3)\n",
      "Added object: (106, 11)\n",
      "Added object: (188, 30)\n",
      "Added object: (165, 43)\n",
      "Added object: (14, 12)\n",
      "Added object: (14, 9)\n",
      "Added object: (67, 15)\n",
      "Added object: (122, 21)\n",
      "Added object: (91, 28)\n",
      "Added object: (6, 11)\n",
      "Added object: (89, 10)\n",
      "Added object: (117, 8)\n",
      "Added object: (53, 22)\n",
      "Added object: (16, 1)\n",
      "Added object: (17, 24)\n",
      "Added object: (102, 23)\n",
      "Added object: (15, 4)\n",
      "Added object: (56, 32)\n",
      "Added object: (7, 5)\n",
      "Added object: (148, 32)\n",
      "Added object: (64, 38)\n",
      "Added object: (132, 27)\n",
      "Added object: (178, 5)\n",
      "Added object: (27, 43)\n",
      "Added object: (46, 2)\n",
      "Added object: (138, 22)\n",
      "Added object: (52, 19)\n",
      "Added object: (101, 6)\n",
      "Added object: (61, 30)\n",
      "Added object: (73, 4)\n",
      "Added object: (123, 24)\n",
      "Added object: (97, 40)\n",
      "Added object: (173, 9)\n",
      "Added object: (75, 34)\n",
      "Added object: (53, 49)\n",
      "Added object: (166, 2)\n",
      "Added object: (16, 22)\n",
      "Added object: (97, 29)\n",
      "Added object: (67, 42)\n",
      "Added object: (28, 5)\n",
      "Added object: (17, 5)\n",
      "Added object: (19, 43)\n",
      "Added object: (179, 32)\n",
      "Added object: (30, 16)\n",
      "Added object: (183, 11)\n"
     ]
    }
   ],
   "source": [
    "res = T[n][W] #get the best result\n",
    "print(f'Best result: {res}')\n",
    "w = W #go backwards to how we computed array, start at max weight case\n",
    "for i in reversed(range(1, n+1)): # Go back up objects\n",
    "    if res <= 0: #I don't think should ever be below zero, ideally we stop once we found our optimal solution\n",
    "        break\n",
    "    if res == T[i - 1][w]: #Keep going up until we find a different value (meaning we added an object)\n",
    "        continue\n",
    "    else: #Value changed, meaning we added an object\n",
    "        print(f'Added object: ({weights[i - 1]}, {values[i - 1]})')\n",
    "        res -= values[i-1] #subtract the value from the total got\n",
    "        w -= weights[i - 1] #now taking the smaller weight case"
   ]
  },
  {
   "cell_type": "markdown",
   "metadata": {},
   "source": [
    "# Using Buckets"
   ]
  },
  {
   "cell_type": "code",
   "execution_count": 143,
   "metadata": {},
   "outputs": [],
   "source": [
    "weights = [random.randint(1, 200) for x in range(1, 100)]\n",
    "values  = [random.randint(1, 50) for x in range(1, 100)]\n",
    "W = 1000"
   ]
  },
  {
   "cell_type": "code",
   "execution_count": 154,
   "metadata": {},
   "outputs": [],
   "source": [
    "NUM_BINS = 100\n",
    "adjusted_w = W\n",
    "factor = 1\n",
    "if adjusted_w > NUM_BINS:\n",
    "    adjusted_w = NUM_BINS\n",
    "    factor = W / NUM_BINS\n",
    "adj_weights = [math.ceil(x / factor) for x in weights]\n",
    "T = [[0 for x in range(adjusted_w + 1)] for y in range(len(values) + 1)] #Create 2d array of zeroes to construct solution\n",
    "n = len(values) #store number of objects we're looking at\n",
    "for i in range(n+1): #iterate vertically (i changes the object we're looking at)\n",
    "    for w in range(adjusted_w + 1): #iterate horizontally (w changes the total cost case we're looking at)\n",
    "        if i==0 or w == 0: #pad top and left side with zero\n",
    "            T[i][w] = 0\n",
    "        elif adj_weights[i-1] <= w: #if weight of above object is less than the total weight case we're looking at\n",
    "            T[i][w] = max(values[i-1] + T[i-1][w-adj_weights[i-1]],  T[i-1][w]) #store in array max of potential value\n",
    "        else: #our weight is too great for this case\n",
    "            T[i][w] = T[i-1][w] #set equal to what we found with the previous object"
   ]
  },
  {
   "cell_type": "code",
   "execution_count": 155,
   "metadata": {},
   "outputs": [
    {
     "name": "stdout",
     "output_type": "stream",
     "text": [
      "Best result: 724\n",
      "Added object: (82, 48)\n",
      "Added object: (7, 22)\n",
      "Added object: (94, 48)\n",
      "Added object: (74, 42)\n",
      "Added object: (22, 17)\n",
      "Added object: (40, 44)\n",
      "Added object: (30, 45)\n",
      "Added object: (81, 48)\n",
      "Added object: (2, 36)\n",
      "Added object: (1, 11)\n",
      "Added object: (28, 23)\n",
      "Added object: (62, 36)\n",
      "Added object: (66, 34)\n",
      "Added object: (10, 31)\n",
      "Added object: (11, 18)\n",
      "Added object: (45, 32)\n",
      "Added object: (1, 14)\n",
      "Added object: (14, 22)\n",
      "Added object: (27, 35)\n",
      "Added object: (17, 32)\n",
      "Added object: (87, 44)\n",
      "Added object: (84, 42)\n",
      "Total weight: 885\n"
     ]
    }
   ],
   "source": [
    "res = T[n][adjusted_w] #get the best result\n",
    "total_weight = 0\n",
    "print(f'Best result: {res}')\n",
    "w = adjusted_w #go backwards to how we computed array, start at max weight case\n",
    "for i in reversed(range(1, n+1)): # Go back up objects\n",
    "    if res <= 0: #I don't think should ever be below zero, ideally we stop once we found our optimal solution\n",
    "        break\n",
    "    if res == T[i - 1][w]: #Keep going up until we find a different value (meaning we added an object)\n",
    "        continue\n",
    "    else: #Value changed, meaning we added an object\n",
    "        print(f'Added object: ({weights[i - 1]}, {values[i - 1]})')\n",
    "        total_weight += weights[i - 1]\n",
    "        res -= values[i-1] #subtract the value from the total got\n",
    "        w -= adj_weights[i - 1] #now taking the smaller weight case\n",
    "print(f'Total weight: {total_weight}')"
   ]
  },
  {
   "cell_type": "markdown",
   "metadata": {},
   "source": [
    "# Methods"
   ]
  },
  {
   "cell_type": "code",
   "execution_count": 4,
   "metadata": {},
   "outputs": [],
   "source": [
    "import numpy as np"
   ]
  },
  {
   "cell_type": "code",
   "execution_count": 5,
   "metadata": {},
   "outputs": [],
   "source": [
    "def with_buckets(weights, values, max_weight, NUM_BINS=100, percentage_max=None, verbose=False, log=False, square=False):\n",
    "    adjusted_w = max_weight\n",
    "    factor = 1\n",
    "    if square:\n",
    "        if adjusted_w > len(weights):\n",
    "            adjusted_w = len(weights)\n",
    "    elif log:\n",
    "        if adjusted_w > len(weights):\n",
    "            adjusted_w = int(np.log(len(weights)))\n",
    "    elif type(percentage_max) is float:\n",
    "        adjusted_w = int(max_weight * percentage_max)\n",
    "        factor = W / adjusted_w\n",
    "    elif adjusted_w > NUM_BINS:\n",
    "        adjusted_w = NUM_BINS\n",
    "    factor = W / adjusted_w # Set scaling factor for weights \n",
    "    adj_weights = [math.ceil(x / factor) for x in weights]\n",
    "    T = [[0 for x in range(adjusted_w + 1)] for y in range(len(values) + 1)] #Create 2d array of zeroes to construct solution\n",
    "    n = len(values) #store number of objects we're looking at\n",
    "    for i in range(n+1): #iterate vertically (i changes the object we're looking at)\n",
    "        for w in range(adjusted_w + 1): #iterate horizontally (w changes the total cost case we're looking at)\n",
    "            if i==0 or w == 0: #pad top and left side with zero\n",
    "                T[i][w] = 0\n",
    "            elif adj_weights[i-1] <= w: #if weight of above object is less than the total weight case we're looking at\n",
    "                T[i][w] = max(values[i-1] + T[i-1][w-adj_weights[i-1]],  T[i-1][w]) #store in array max of potential value\n",
    "            else: #our weight is too great for this case\n",
    "                T[i][w] = T[i-1][w] #set equal to what we found with the previous object\n",
    "    res = T[n][adjusted_w] #get the best result\n",
    "    total_weight = 0\n",
    "    print(f'Best result: {res}') if verbose else 0\n",
    "    w = adjusted_w #go backwards to how we computed array, start at max weight case\n",
    "    to_save = set([])\n",
    "    for i in reversed(range(1, n+1)): # Go back up objects\n",
    "        if res <= 0: #I don't think should ever be below zero, ideally we stop once we found our optimal solution\n",
    "            break\n",
    "        if res == T[i - 1][w]: #Keep going up until we find a different value (meaning we added an object)\n",
    "            continue\n",
    "        else: #Value changed, meaning we added an object\n",
    "            to_save.add((weights[i - 1], values[i - 1]))\n",
    "            print(f'Added object: ({weights[i - 1]}, {values[i - 1]})') if verbose else 0\n",
    "            total_weight += weights[i - 1]\n",
    "            res -= values[i-1] #subtract the value from the total got\n",
    "            w -= adj_weights[i - 1] #now taking the smaller weight case\n",
    "    print(f'Total weight: {total_weight}') if verbose else 0\n",
    "    return to_save"
   ]
  },
  {
   "cell_type": "code",
   "execution_count": 6,
   "metadata": {},
   "outputs": [],
   "source": [
    "def no_buckets(weights, values, max_weight, NUM_BINS=100, verbose=False):\n",
    "    T = [[0 for x in range(W + 1)] for y in range(len(values) + 1)] #Create 2d array of zeroes to construct solution\n",
    "    n = len(values) #store number of objects we're looking at\n",
    "    for i in range(n+1): #iterate vertically (i changes the object we're looking at)\n",
    "        for w in range(W+1): #iterate horizontally (w changes the total cost case we're looking at)\n",
    "            if i==0 or w==0: #pad top and left side with zero\n",
    "                T[i][w] = 0\n",
    "            elif weights[i-1] <= w: #if weight of above object is less than the total weight case we're looking at\n",
    "                T[i][w] = max(values[i-1] + T[i-1][w-weights[i-1]],  T[i-1][w]) #store in array max of potential value\n",
    "            else: #our weight is too great for this case\n",
    "                T[i][w] = T[i-1][w] #set equal to what we found with the previous object\n",
    "    res = T[n][W] #get the best result\n",
    "    print(f'Best result: {res}') if verbose else 0\n",
    "    w = W #go backwards to how we computed array, start at max weight case\n",
    "    total_weight = 0\n",
    "    to_save = set([])\n",
    "    for i in reversed(range(1, n+1)): # Go back up objects\n",
    "        if res <= 0: #I don't think should ever be below zero, ideally we stop once we found our optimal solution\n",
    "            break\n",
    "        if res == T[i - 1][w]: #Keep going up until we find a different value (meaning we added an object)\n",
    "            continue\n",
    "        else: #Value changed, meaning we added an object\n",
    "            to_save.add((weights[i - 1], values[i - 1]))\n",
    "            print(f'Added object: ({weights[i - 1]}, {values[i - 1]})') if verbose else 0\n",
    "            total_weight += weights[i - 1]\n",
    "            res -= values[i-1] #subtract the value from the total got\n",
    "            w -= weights[i - 1] #now taking the smaller weight case\n",
    "    print(f'Total weight: {total_weight}') if verbose else 0\n",
    "    return to_save"
   ]
  },
  {
   "cell_type": "code",
   "execution_count": 7,
   "metadata": {},
   "outputs": [],
   "source": [
    "import heapq"
   ]
  },
  {
   "cell_type": "code",
   "execution_count": 8,
   "metadata": {},
   "outputs": [],
   "source": [
    "def with_heap(weights, values, max_weight, verbose=False):\n",
    "    objects = [x for x in zip(values, weights)]\n",
    "    objects = sorted(objects)\n",
    "    cache_size = sum([x[1] for x in objects])\n",
    "    i = 0\n",
    "    while cache_size >= max_weight:\n",
    "        this_object = objects[i]\n",
    "        cache_size -= this_object[1]\n",
    "        i += 1\n",
    "    subset = objects[i:]\n",
    "    to_save = [(x[1], x[0]) for x in subset]\n",
    "    return to_save"
   ]
  },
  {
   "cell_type": "code",
   "execution_count": 9,
   "metadata": {},
   "outputs": [],
   "source": [
    "def info(solutions, verbose=False):\n",
    "    total_weight = sum([x[0] for x in solutions])\n",
    "    total_value = sum([x[1] for x in solutions])\n",
    "    print(f'Total cost: {total_weight}') if verbose else 0\n",
    "    print(f'Total value: {total_value}') if verbose else 0\n",
    "    return (total_weight, total_value)"
   ]
  },
  {
   "cell_type": "markdown",
   "metadata": {},
   "source": [
    "# Testing Time"
   ]
  },
  {
   "cell_type": "code",
   "execution_count": 10,
   "metadata": {},
   "outputs": [],
   "source": [
    "import time"
   ]
  },
  {
   "cell_type": "code",
   "execution_count": 190,
   "metadata": {},
   "outputs": [],
   "source": [
    "weights = [random.randint(1, 100) for x in range(1, 300)]\n",
    "values  = [random.randint(1, 50) for x in range(1, 300)]\n",
    "W = 1000"
   ]
  },
  {
   "cell_type": "code",
   "execution_count": 191,
   "metadata": {},
   "outputs": [
    {
     "name": "stdout",
     "output_type": "stream",
     "text": [
      "Total cost: 421\n",
      "Total value: 498\n",
      "0.0010352134704589844\n"
     ]
    }
   ],
   "source": [
    "start = time.time()\n",
    "w_sol = with_buckets(weights, values, W, percentage_max=0.01)\n",
    "end = time.time()\n",
    "info(w_sol, verbose=True)\n",
    "print(end - start)"
   ]
  },
  {
   "cell_type": "code",
   "execution_count": 192,
   "metadata": {},
   "outputs": [
    {
     "name": "stdout",
     "output_type": "stream",
     "text": [
      "0.0040378570556640625\n",
      "Total cost: 183\n",
      "Total value: 250\n"
     ]
    },
    {
     "data": {
      "text/plain": [
       "(183, 250)"
      ]
     },
     "execution_count": 192,
     "metadata": {},
     "output_type": "execute_result"
    }
   ],
   "source": [
    "start = time.time()\n",
    "l_sol = with_buckets(weights, values, W, log=True)\n",
    "end = time.time()\n",
    "print(end - start)\n",
    "info(l_sol, verbose=True)"
   ]
  },
  {
   "cell_type": "code",
   "execution_count": 193,
   "metadata": {},
   "outputs": [
    {
     "name": "stdout",
     "output_type": "stream",
     "text": [
      "Total cost: 902\n",
      "Total value: 2037\n",
      "0.09599494934082031\n"
     ]
    }
   ],
   "source": [
    "start = time.time()\n",
    "s_sol = with_buckets(weights, values, W, square=True)\n",
    "end = time.time()\n",
    "info(s_sol, verbose=True)\n",
    "print(end - start)"
   ]
  },
  {
   "cell_type": "code",
   "execution_count": 194,
   "metadata": {},
   "outputs": [
    {
     "name": "stdout",
     "output_type": "stream",
     "text": [
      "Total cost: 994\n",
      "Total value: 2143\n",
      "0.249161958694458\n"
     ]
    }
   ],
   "source": [
    "start = time.time()\n",
    "n_sol = no_buckets(weights, values, W)\n",
    "end = time.time()\n",
    "info(n_sol, verbose=True)\n",
    "print(end - start)"
   ]
  },
  {
   "cell_type": "code",
   "execution_count": 195,
   "metadata": {},
   "outputs": [
    {
     "name": "stdout",
     "output_type": "stream",
     "text": [
      "Total cost: 975\n",
      "Total value: 979\n",
      "0.0\n"
     ]
    }
   ],
   "source": [
    "start = time.time()\n",
    "h_sol = with_heap(weights, values, W)\n",
    "end = time.time()\n",
    "info(h_sol, verbose=True)\n",
    "print(end - start)"
   ]
  },
  {
   "cell_type": "code",
   "execution_count": 127,
   "metadata": {},
   "outputs": [
    {
     "data": {
      "text/plain": [
       "[]"
      ]
     },
     "execution_count": 127,
     "metadata": {},
     "output_type": "execute_result"
    }
   ],
   "source": [
    "h_sol"
   ]
  },
  {
   "cell_type": "code",
   "execution_count": 211,
   "metadata": {},
   "outputs": [],
   "source": [
    "def automate_test_iter(weights, values, W):\n",
    "    # No Buckets\n",
    "    start = time.time()\n",
    "    n_sol = no_buckets(weights, values, W)\n",
    "    end = time.time()\n",
    "    _, best_value = info(n_sol)\n",
    "    print(f'Optimal solution for weight {W} took time {(end - start):.2f}s and has value {best_value}')\n",
    "    # With 10% of weight\n",
    "    start = time.time()\n",
    "    w_sol = with_buckets(weights, values, W, percentage_max=0.001)\n",
    "    end = time.time()\n",
    "    _, best_value = info(w_sol)\n",
    "    print(f'10% of weight bucket solution for weight {W} took time {(end - start):.2f}s and has value {best_value}')\n",
    "    # Fixed size\n",
    "    start = time.time()\n",
    "    f_sol = with_buckets(weights, values, W, NUM_BINS=100)\n",
    "    end = time.time()\n",
    "    _, best_value = info(f_sol)\n",
    "    print(f'Fixed 100 bucket solution for weight {W} took time {(end - start):.2f}s and has value {best_value}')\n",
    "    # Square\n",
    "    start = time.time()\n",
    "    s_sol = with_buckets(weights, values, W, square=True)\n",
    "    end = time.time()\n",
    "    _, best_value = info(s_sol)\n",
    "    print(f'Square bucket solution for weight {W} took time {(end - start):.2f}s and has value {best_value}')\n",
    "    # Heap\n",
    "    start = time.time()\n",
    "    h_sol = with_heap(weights, values, W)\n",
    "    end = time.time()\n",
    "    _, best_value = info(h_sol)\n",
    "    print(f'Heap solution for weight {W} took time {(end - start):.2f}s and has value {best_value}')"
   ]
  },
  {
   "cell_type": "code",
   "execution_count": 369,
   "metadata": {},
   "outputs": [],
   "source": [
    "weights = [random.randint(1, 5000) for x in range(1, 100000)]\n",
    "values  = [random.randint(1, 5000) for x in range(1, 100000)]\n",
    "W = 100000"
   ]
  },
  {
   "cell_type": "code",
   "execution_count": null,
   "metadata": {},
   "outputs": [],
   "source": [
    "automate_test_iter(weights, values, W)"
   ]
  },
  {
   "cell_type": "code",
   "execution_count": 362,
   "metadata": {},
   "outputs": [],
   "source": [
    "start = time.time()\n",
    "h_sol = with_heap(weights, values, W)\n",
    "end = time.time()\n",
    "total_weight, best_value = info(h_sol)"
   ]
  },
  {
   "cell_type": "code",
   "execution_count": 363,
   "metadata": {},
   "outputs": [
    {
     "data": {
      "text/plain": [
       "0.4602327346801758"
      ]
     },
     "execution_count": 363,
     "metadata": {},
     "output_type": "execute_result"
    }
   ],
   "source": [
    "end - start"
   ]
  },
  {
   "cell_type": "code",
   "execution_count": 364,
   "metadata": {},
   "outputs": [
    {
     "data": {
      "text/plain": [
       "10000"
      ]
     },
     "execution_count": 364,
     "metadata": {},
     "output_type": "execute_result"
    }
   ],
   "source": [
    "best_value"
   ]
  },
  {
   "cell_type": "code",
   "execution_count": 356,
   "metadata": {},
   "outputs": [
    {
     "data": {
      "text/plain": [
       "9969"
      ]
     },
     "execution_count": 356,
     "metadata": {},
     "output_type": "execute_result"
    }
   ],
   "source": [
    "total_weight"
   ]
  },
  {
   "cell_type": "code",
   "execution_count": 365,
   "metadata": {},
   "outputs": [],
   "source": [
    "start = time.time()\n",
    "s_sol = with_buckets(weights, values, W, percentage_max=0.001)\n",
    "end = time.time()\n",
    "total_weight, best_value = info(s_sol)"
   ]
  },
  {
   "cell_type": "code",
   "execution_count": 366,
   "metadata": {},
   "outputs": [
    {
     "data": {
      "text/plain": [
       "1.3421247005462646"
      ]
     },
     "execution_count": 366,
     "metadata": {},
     "output_type": "execute_result"
    }
   ],
   "source": [
    "end - start"
   ]
  },
  {
   "cell_type": "code",
   "execution_count": 367,
   "metadata": {},
   "outputs": [
    {
     "data": {
      "text/plain": [
       "49992"
      ]
     },
     "execution_count": 367,
     "metadata": {},
     "output_type": "execute_result"
    }
   ],
   "source": [
    "best_value"
   ]
  },
  {
   "cell_type": "code",
   "execution_count": 368,
   "metadata": {},
   "outputs": [
    {
     "data": {
      "text/plain": [
       "5552"
      ]
     },
     "execution_count": 368,
     "metadata": {},
     "output_type": "execute_result"
    }
   ],
   "source": [
    "total_weight"
   ]
  },
  {
   "cell_type": "code",
   "execution_count": 265,
   "metadata": {},
   "outputs": [
    {
     "data": {
      "text/plain": [
       "26624"
      ]
     },
     "execution_count": 265,
     "metadata": {},
     "output_type": "execute_result"
    }
   ],
   "source": [
    "total_weight"
   ]
  },
  {
   "cell_type": "code",
   "execution_count": 266,
   "metadata": {},
   "outputs": [
    {
     "data": {
      "text/plain": [
       "17213"
      ]
     },
     "execution_count": 266,
     "metadata": {},
     "output_type": "execute_result"
    }
   ],
   "source": [
    "best_value"
   ]
  },
  {
   "cell_type": "code",
   "execution_count": 12,
   "metadata": {},
   "outputs": [],
   "source": [
    "with open('test.txt', 'a') as f:\n",
    "    f.write(\"somet test\\n\")\n",
    "    f.write(\"some other test\\n\")"
   ]
  },
  {
   "cell_type": "code",
   "execution_count": null,
   "metadata": {},
   "outputs": [],
   "source": []
  },
  {
   "cell_type": "code",
   "execution_count": null,
   "metadata": {},
   "outputs": [],
   "source": []
  },
  {
   "cell_type": "code",
   "execution_count": null,
   "metadata": {},
   "outputs": [],
   "source": []
  },
  {
   "cell_type": "code",
   "execution_count": null,
   "metadata": {},
   "outputs": [],
   "source": []
  },
  {
   "cell_type": "code",
   "execution_count": null,
   "metadata": {},
   "outputs": [],
   "source": []
  },
  {
   "cell_type": "code",
   "execution_count": null,
   "metadata": {},
   "outputs": [],
   "source": []
  },
  {
   "cell_type": "code",
   "execution_count": null,
   "metadata": {},
   "outputs": [],
   "source": []
  },
  {
   "cell_type": "code",
   "execution_count": null,
   "metadata": {},
   "outputs": [],
   "source": []
  },
  {
   "cell_type": "code",
   "execution_count": null,
   "metadata": {},
   "outputs": [],
   "source": []
  },
  {
   "cell_type": "code",
   "execution_count": null,
   "metadata": {},
   "outputs": [],
   "source": []
  },
  {
   "cell_type": "code",
   "execution_count": null,
   "metadata": {},
   "outputs": [],
   "source": []
  },
  {
   "cell_type": "code",
   "execution_count": null,
   "metadata": {},
   "outputs": [],
   "source": []
  },
  {
   "cell_type": "code",
   "execution_count": null,
   "metadata": {},
   "outputs": [],
   "source": []
  },
  {
   "cell_type": "code",
   "execution_count": null,
   "metadata": {},
   "outputs": [],
   "source": []
  }
 ],
 "metadata": {
  "kernelspec": {
   "display_name": "Python 3",
   "language": "python",
   "name": "python3"
  },
  "language_info": {
   "codemirror_mode": {
    "name": "ipython",
    "version": 3
   },
   "file_extension": ".py",
   "mimetype": "text/x-python",
   "name": "python",
   "nbconvert_exporter": "python",
   "pygments_lexer": "ipython3",
   "version": "3.6.6"
  }
 },
 "nbformat": 4,
 "nbformat_minor": 2
}
